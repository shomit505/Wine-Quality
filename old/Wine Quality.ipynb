{
 "cells": [
  {
   "cell_type": "code",
   "execution_count": 30,
   "metadata": {},
   "outputs": [
    {
     "name": "stdout",
     "output_type": "stream",
     "text": [
      "(6497, 11)\n",
      "(6497, 1)\n"
     ]
    }
   ],
   "source": [
    "from ucimlrepo import fetch_ucirepo\n",
    "import numpy as np\n",
    "import pandas as pd\n",
    "from typing import Type\n",
    "  \n",
    "# fetch dataset \n",
    "wine_quality = fetch_ucirepo(id=186) \n",
    "  \n",
    "# data (as pandas dataframes) \n",
    "X = wine_quality.data.features \n",
    "y = wine_quality.data.targets \n",
    "  \n",
    "# metadata \n",
    "#print(wine_quality.metadata) \n",
    "  \n",
    "# variable information \n",
    "#print(wine_quality.variables)\n",
    "\n",
    "print(X.shape) \n",
    "print(y.shape)\n"
   ]
  },
  {
   "cell_type": "code",
   "execution_count": 60,
   "metadata": {},
   "outputs": [
    {
     "data": {
      "text/plain": [
       "array([0, 0, 0, 0, 0])"
      ]
     },
     "execution_count": 60,
     "metadata": {},
     "output_type": "execute_result"
    }
   ],
   "source": [
    "X = np.arange(5)\n",
    "X.T - X"
   ]
  },
  {
   "cell_type": "code",
   "execution_count": 62,
   "metadata": {},
   "outputs": [],
   "source": [
    "class Train():\n",
    "    def __init__(self, inputs: pd.DataFrame, targets: pd.DataFrame, weights_class: Type[object], train_split: float, k_fold: int, seed: int) -> None:\n",
    "        self.train_split = train_split\n",
    "        self.test_split = 1 - train_split\n",
    "        self.k_fold = k_fold\n",
    "        self.inputs = inputs\n",
    "        self.targets = targets\n",
    "        self.dataset_size = inputs.shape[0]\n",
    "        self.rng = np.random.default_rng(seed)\n",
    "        self.weights_class = weights_class\n",
    "\n",
    "        randomised_inputs = self.rng.permutation(self.inputs.to_numpy())\n",
    "        randomised_targets = self.rng.permutation(self.targets.to_numpy())\n",
    "        train_cut = round(self.train_split * self.dataset_size)\n",
    "\n",
    "        self.train_inputs = randomised_inputs[0:train_cut]\n",
    "        self.train_targets = randomised_targets[0:train_cut]\n",
    "        self.test_inputs = randomised_inputs[train_cut:]\n",
    "        self.test_targets = randomised_targets[train_cut:]\n",
    "\n",
    "    \n",
    "    def crossvalidate(self):\n",
    "        running_loss = 0\n",
    "\n",
    "        for i in range(self.k_fold):\n",
    "            train_indices = [j for j in range(len(self.train_inputs)) if j % self.k_fold != i]\n",
    "            test_indices = [j for j in range(len(self.train_inputs)) if j % self.k_fold == i]\n",
    "            weights = self.weights_class.erm(self.train_inputs[train_indices], self.train_targets[train_indices])\n",
    "            test_loss = self.weights_class.loss(self.train_inputs[test_indices], self.train_targets[test_indices], weights)\n",
    "            running_loss += test_loss\n",
    "\n",
    "        return running_loss / self.k_fold\n",
    "    \n",
    "    def finaltrain(self):\n",
    "        weights = self.weights_class.erm(self.train_inputs, self.train_targets)\n",
    "        test_loss = self.weights_class.loss(self.test_inputs, self.test_targets, weights)\n",
    "        return test_loss, weights\n",
    "\n",
    "\n",
    "\n",
    "class LLS():\n",
    "    def erm(self, inputs, targets):\n",
    "        print(inputs.shape)\n",
    "        return np.linalg.inv(inputs.T @ inputs) @ inputs.T @ targets\n",
    "    \n",
    "    def loss(self, inputs, targets, weights):\n",
    "        return (targets - inputs @ weights).T @ (targets - inputs @ weights) / len(inputs)\n",
    "    \n",
    "\n",
    "class RIDGELLS():\n",
    "    def __init__(self, regulariser: float) -> None:\n",
    "        self.regulariser = regulariser\n",
    "\n",
    "    def erm(self, inputs, targets):\n",
    "        return np.linalg.inv(inputs.T @ inputs + self.regulariser * np.identity(inputs.shape[1])) @ inputs.T @ targets\n",
    "    \n",
    "    def loss(self, inputs, targets, weights):\n",
    "        return ((targets - inputs @ weights).T @ (targets - inputs @ weights) + self.regulariser * weights.T @ weights) / len(inputs)\n",
    "    \n",
    "class KernelRIDGE():\n",
    "    def __init__(self, regulariser: float, gamma: float) -> None:\n",
    "        self.regulariser = regulariser\n",
    "        self.gamma = gamma\n",
    "\n",
    "    def erm(self, inputs, targets):\n",
    "        diff = inputs[:, None, :] - inputs[None, :, :]  \n",
    "        K = np.exp(- self.gamma * np.sum(diff**2, axis=-1))\n",
    "        return inputs.T @ np.linalg.inv(K + np.identity(len(K))) @ targets\n",
    "    \n",
    "    def loss(self, inputs, targets, weights):\n",
    "        return ((targets - inputs @ weights).T @ (targets - inputs @ weights) + self.regulariser * weights.T @ weights) / len(inputs)\n"
   ]
  },
  {
   "cell_type": "markdown",
   "metadata": {},
   "source": [
    "Simple Linear Regression"
   ]
  },
  {
   "cell_type": "code",
   "execution_count": 46,
   "metadata": {},
   "outputs": [
    {
     "name": "stdout",
     "output_type": "stream",
     "text": [
      "(5198, 11)\n",
      "[[0.73723837]]\n"
     ]
    }
   ],
   "source": [
    "\n",
    "wine_quality = fetch_ucirepo(id=186) \n",
    "X = wine_quality.data.features \n",
    "y = wine_quality.data.targets\n",
    "linear_least_squares = LLS()\n",
    "train_percentage = 0.8\n",
    "k_folds = 5\n",
    "seed = 42\n",
    "\n",
    "Object = Train(X, y, linear_least_squares, train_percentage, k_folds, seed)\n",
    "\n",
    "loss, _ = Object.finaltrain()\n",
    "print(loss)\n",
    "\n",
    "\n",
    "  "
   ]
  },
  {
   "cell_type": "markdown",
   "metadata": {},
   "source": [
    "Simple Linear Regression with L2 regularisation (Ridge Regression)"
   ]
  },
  {
   "cell_type": "code",
   "execution_count": 44,
   "metadata": {},
   "outputs": [
    {
     "data": {
      "image/png": "[encoded data removed]",
      "text/plain": [
       "<Figure size 640x480 with 1 Axes>"
      ]
     },
     "metadata": {},
     "output_type": "display_data"
    }
   ],
   "source": [
    "import matplotlib.pyplot as plt\n",
    "\n",
    "wine_quality = fetch_ucirepo(id=186) \n",
    "X = wine_quality.data.features \n",
    "y = wine_quality.data.targets\n",
    "train_percentage = 0.8\n",
    "k_folds = 5\n",
    "seed = 42\n",
    "regulariser_terms = [0, 0.001, 0.01, 0.1, 1]\n",
    "\n",
    "cross_val_losses = []\n",
    "for term in regulariser_terms:\n",
    "    function_fitter = RIDGELLS(regulariser=term)\n",
    "    DataHandler = Train(X, y, function_fitter, train_percentage, k_folds, seed)\n",
    "    x = DataHandler.crossvalidate()\n",
    "    x = np.squeeze(np.squeeze(x, axis=0), axis=0)\n",
    "    cross_val_losses.append(x)\n",
    "\n",
    "plt.plot(regulariser_terms, cross_val_losses)\n",
    "plt.show()\n",
    "\n",
    "# Quality of the data is good, expressiveness of the function is bad. Limiting what little expressiveness is available to us is overall a bad thing.\n",
    "# Suggests increased expressivity is a good direction to go"
   ]
  },
  {
   "cell_type": "markdown",
   "metadata": {},
   "source": [
    "Kernel Ridge Regression"
   ]
  },
  {
   "cell_type": "code",
   "execution_count": 65,
   "metadata": {},
   "outputs": [
    {
     "data": {
      "image/png": "[encoded data removed]",
      "text/plain": [
       "<Figure size 640x480 with 1 Axes>"
      ]
     },
     "metadata": {},
     "output_type": "display_data"
    }
   ],
   "source": [
    "import matplotlib.pyplot as plt\n",
    "\n",
    "wine_quality = fetch_ucirepo(id=186) \n",
    "X = wine_quality.data.features \n",
    "y = wine_quality.data.targets\n",
    "train_percentage = 0.8\n",
    "k_folds = 5\n",
    "seed = 42\n",
    "regulariser_terms = [0]\n",
    "gamma_val = 1\n",
    "\n",
    "cross_val_losses = []\n",
    "for term in regulariser_terms:\n",
    "    function_fitter = KernelRIDGE(regulariser=term, gamma=gamma_val)\n",
    "    DataHandler = Train(X, y, function_fitter, train_percentage, k_folds, seed)\n",
    "    x = DataHandler.crossvalidate()\n",
    "    x = np.squeeze(np.squeeze(x, axis=0), axis=0)\n",
    "    cross_val_losses.append(x)\n",
    "\n",
    "plt.plot(regulariser_terms, cross_val_losses)\n",
    "plt.show()\n"
   ]
  },
  {
   "cell_type": "code",
   "execution_count": null,
   "metadata": {},
   "outputs": [],
   "source": [
    "# Simple Linear Regression\n",
    "# Ridge Regression\n",
    "# Kernelised Ridge Regression\n",
    "# Deep Learning\n",
    "# Bayesian Deep Learning"
   ]
  },
  {
   "cell_type": "markdown",
   "metadata": {},
   "source": [
    "Convert from Numpy to Pytorch (Speed Run)"
   ]
  },
  {
   "cell_type": "code",
   "execution_count": 72,
   "metadata": {},
   "outputs": [],
   "source": [
    "import torch\n",
    "from typing import Tuple\n",
    "\n",
    "class Train():\n",
    "    def __init__(self, inputs: pd.DataFrame, targets: pd.DataFrame, weights_class: Type[object], train_split: float, k_fold: int, seed: int) -> None:\n",
    "        self.train_split = train_split\n",
    "        self.test_split = 1 - train_split\n",
    "        self.k_fold = k_fold\n",
    "        self.inputs = inputs\n",
    "        self.targets = targets\n",
    "        self.dataset_size = inputs.shape[0]\n",
    "        self.weights_class = weights_class\n",
    "\n",
    "\n",
    "        torch.manual_seed(seed)\n",
    "        randomised_inputs = torch.tensor(self.inputs.to_numpy(), dtype=torch.float32)[torch.randperm(self.dataset_size)]\n",
    "        randomised_targets = torch.tensor(self.targets.to_numpy(), dtype=torch.float32)[torch.randperm(self.dataset_size)]\n",
    "        train_cut = round(self.train_split * self.dataset_size)\n",
    "\n",
    "        self.train_inputs = randomised_inputs[0:train_cut]\n",
    "        self.train_targets = randomised_targets[0:train_cut]\n",
    "        self.test_inputs = randomised_inputs[train_cut:]\n",
    "        self.test_targets = randomised_targets[train_cut:]\n",
    "\n",
    "    \n",
    "    def crossvalidate(self) -> float:\n",
    "        running_loss = 0\n",
    "        for i in range(self.k_fold):\n",
    "            train_indices = [j for j in range(len(self.train_inputs)) if j % self.k_fold != i]\n",
    "            test_indices = [j for j in range(len(self.train_inputs)) if j % self.k_fold == i]\n",
    "            weights = self.weights_class.erm(self.train_inputs[train_indices], self.train_targets[train_indices])\n",
    "            test_loss = self.weights_class.loss(self.train_inputs[test_indices], self.train_targets[test_indices], weights)\n",
    "            running_loss += test_loss\n",
    "\n",
    "        return running_loss / self.k_fold\n",
    "    \n",
    "    def finaltrain(self) -> Tuple[float, torch.Tensor]:\n",
    "        weights = self.weights_class.erm(self.train_inputs, self.train_targets)\n",
    "        test_loss = self.weights_class.loss(self.test_inputs, self.test_targets, weights)\n",
    "        return test_loss, weights\n",
    "\n",
    "\n",
    "\n",
    "class LLS():\n",
    "    def erm(self, inputs: torch.Tensor, targets: torch.Tensor) -> torch.Tensor:\n",
    "        print(inputs.shape)\n",
    "        return torch.linalg.inv(inputs.T @ inputs) @ inputs.T @ targets\n",
    "    \n",
    "    def loss(self, inputs, targets, weights) -> torch.Tensor:\n",
    "        return (targets - inputs @ weights).T @ (targets - inputs @ weights) / len(inputs)\n",
    "    \n",
    "\n",
    "class RIDGELLS():\n",
    "    def __init__(self, regulariser: float) -> None:\n",
    "        self.regulariser = regulariser\n",
    "\n",
    "    def erm(self, inputs: torch.Tensor, targets: torch.Tensor) -> torch.Tensor:\n",
    "        return torch.linalg.inv(inputs.T @ inputs + self.regulariser * np.identity(inputs.shape[1])) @ inputs.T @ targets\n",
    "    \n",
    "    def loss(self, inputs, targets, weights) -> torch.Tensor:\n",
    "        return ((targets - inputs @ weights).T @ (targets - inputs @ weights) + self.regulariser * weights.T @ weights) / len(inputs)\n",
    "    \n",
    "class KernelRIDGE():\n",
    "    def __init__(self, regulariser: float, gamma: float) -> None:\n",
    "        self.regulariser = regulariser\n",
    "        self.gamma = gamma\n",
    "\n",
    "    def erm(self, inputs: torch.Tensor, targets: torch.Tensor) -> torch.Tensor:\n",
    "        diff = inputs[:, None, :] - inputs[None, :, :]  \n",
    "        K = np.exp(- self.gamma * np.sum(diff**2, axis=-1))\n",
    "        return inputs.T @ torch.linalg.inv(K + np.identity(len(K))) @ targets\n",
    "    \n",
    "    def loss(self, inputs: torch.Tensor, targets: torch.Tensor, weights: torch.Tensor) -> torch.Tensor:\n",
    "        return ((targets - inputs @ weights).T @ (targets - inputs @ weights) + self.regulariser * weights.T @ weights) / len(inputs)"
   ]
  },
  {
   "cell_type": "markdown",
   "metadata": {},
   "source": [
    "Deep Learning"
   ]
  },
  {
   "cell_type": "code",
   "execution_count": 30,
   "metadata": {},
   "outputs": [],
   "source": [
    "import torch\n",
    "import torch.nn as nn\n",
    "import torch.optim as optim\n",
    "from torch.utils.data import DataLoader, TensorDataset\n",
    "from ucimlrepo import fetch_ucirepo\n",
    "import numpy as np\n",
    "import pandas as pd\n",
    "from typing import Type, Tuple\n",
    "\n",
    "class NeuralNet(nn.Module):\n",
    "    def __init__(self):\n",
    "        super().__init__()\n",
    "        self.net = nn.Sequential(\n",
    "            nn.Linear(11, 32),\n",
    "            nn.ReLU(),\n",
    "            nn.Dropout(p=0.3),\n",
    "            nn.Linear(32, 16),\n",
    "            nn.ReLU(),\n",
    "            nn.Dropout(p=0.3),\n",
    "            nn.Linear(16, 1),\n",
    "        )\n",
    "\n",
    "    def forward(self, x):\n",
    "        prediction = self.net(x)\n",
    "        return prediction\n",
    "\n",
    "class Train():\n",
    "    def __init__(self, inputs: pd.DataFrame, targets: pd.DataFrame, net_class: Type[object], loss_fn, train_split: float, lr: float, k_fold: int, batch_size: int, epochs: int, seed: int) -> None:\n",
    "        self.train_split = train_split\n",
    "        self.test_split = 1 - train_split\n",
    "        self.k_fold = k_fold\n",
    "        self.loss_fn = loss_fn\n",
    "        self.inputs = inputs\n",
    "        self.targets = targets\n",
    "        self.dataset_size = inputs.shape[0]\n",
    "        self.net_class = net_class\n",
    "        self.batch_size = batch_size\n",
    "        self.epochs = epochs\n",
    "        self.lr = lr\n",
    "\n",
    "        torch.manual_seed(seed)\n",
    "        randomised_inputs = torch.tensor(self.inputs.to_numpy(), dtype=torch.float32)[torch.randperm(self.dataset_size)]\n",
    "        randomised_targets = torch.tensor(self.targets.to_numpy(), dtype=torch.float32)[torch.randperm(self.dataset_size)]\n",
    "        train_cut = round(self.train_split * self.dataset_size)\n",
    "\n",
    "        self.train_inputs = randomised_inputs[0:train_cut]\n",
    "        self.train_targets = randomised_targets[0:train_cut]\n",
    "        self.test_inputs = randomised_inputs[train_cut:]\n",
    "        self.test_targets = randomised_targets[train_cut:]\n",
    "\n",
    "    def optimise(self, inputs, targets, epochs):\n",
    "        trainset = TensorDataset(inputs, targets)\n",
    "        trainloader = DataLoader(trainset, batch_size=self.batch_size, shuffle=False)\n",
    "        optimiser = optim.Adam(self.net_class.parameters(), lr=0.01)\n",
    "\n",
    "        for _ in range(epochs):\n",
    "            for X_batch, y_batch in trainloader:\n",
    "                outputs = self.net_class.forward(X_batch)\n",
    "                loss = self.loss_fn(outputs, y_batch)\n",
    "                optimiser.zero_grad()\n",
    "                loss.backward()\n",
    "                optimiser.step()\n",
    "        \n",
    "        return 'Training Done!'\n",
    "    \n",
    "    def evaluate(self, inputs, targets):\n",
    "        return self.loss_fn(torch.round(self.net_class.forward(inputs)), targets)\n",
    "    \n",
    "    def crossvalidate(self) -> float:\n",
    "        running_loss = 0\n",
    "        for i in range(self.k_fold):\n",
    "            train_indices = [j for j in range(len(self.train_inputs)) if j % self.k_fold != i]\n",
    "            test_indices = [j for j in range(len(self.train_inputs)) if j % self.k_fold == i]\n",
    "            if self.loss_fn is None:\n",
    "                weights = self.net_class.erm(self.train_inputs[train_indices], self.train_targets[train_indices])\n",
    "                test_loss = self.net_class.loss(self.train_inputs[test_indices], self.train_targets[test_indices], weights)\n",
    "            else:\n",
    "                _ = self.optimise(self.train_inputs[train_indices], self.train_targets[train_indices], self.epochs)\n",
    "                test_loss = self.evaluate(self.train_inputs[test_indices], self.train_targets[test_indices])\n",
    "            running_loss += test_loss\n",
    "\n",
    "        return running_loss / self.k_fold\n",
    "    \n",
    "    def finaltrain(self) -> Tuple[float, torch.Tensor]:\n",
    "        if self.loss_fn is None:\n",
    "            weights = self.net_class.erm(self.train_inputs, self.train_targets)\n",
    "            test_loss = self.net_class.loss(self.test_inputs, self.test_targets, weights)\n",
    "        else:\n",
    "            _ = self.optimise(self.train_inputs, self.train_targets, self.epochs)\n",
    "            test_loss = self.evaluate(self.test_inputs, self.test_targets)\n",
    "\n",
    "        return test_loss\n",
    "\n",
    "    "
   ]
  },
  {
   "cell_type": "code",
   "execution_count": 32,
   "metadata": {},
   "outputs": [
    {
     "name": "stdout",
     "output_type": "stream",
     "text": [
      "[tensor(0.7986, grad_fn=<DivBackward0>)]\n"
     ]
    }
   ],
   "source": [
    "import matplotlib.pyplot as plt\n",
    "\n",
    "wine_quality = fetch_ucirepo(id=186) \n",
    "X = wine_quality.data.features \n",
    "y = wine_quality.data.targets\n",
    "train_percentage = 0.8\n",
    "k_folds = 5\n",
    "seed = 42\n",
    "net_object = NeuralNet()\n",
    "loss_fn = nn.MSELoss()\n",
    "batch_size = 32\n",
    "epochs = 50\n",
    "lrs = [0.01]\n",
    "\n",
    "cross_val_losses = []\n",
    "for lr in lrs:\n",
    "    Object = Train(X, y, net_object, loss_fn, train_percentage, lr, k_folds, batch_size, epochs, seed)\n",
    "    cross_val_losses.append(Object.crossvalidate())\n",
    "\n",
    "print(cross_val_losses)"
   ]
  },
  {
   "cell_type": "code",
   "execution_count": 19,
   "metadata": {},
   "outputs": [
    {
     "name": "stdout",
     "output_type": "stream",
     "text": [
      "[tensor(0.7695, grad_fn=<DivBackward0>), tensor(0.7693, grad_fn=<DivBackward0>), tensor(0.7693, grad_fn=<DivBackward0>)]\n"
     ]
    }
   ],
   "source": [
    "print(cross_val_losses)"
   ]
  }
 ],
 "metadata": {
  "kernelspec": {
   "display_name": "base",
   "language": "python",
   "name": "python3"
  },
  "language_info": {
   "codemirror_mode": {
    "name": "ipython",
    "version": 3
   },
   "file_extension": ".py",
   "mimetype": "text/x-python",
   "name": "python",
   "nbconvert_exporter": "python",
   "pygments_lexer": "ipython3",
   "version": "3.11.4"
  }
 },
 "nbformat": 4,
 "nbformat_minor": 2
}
